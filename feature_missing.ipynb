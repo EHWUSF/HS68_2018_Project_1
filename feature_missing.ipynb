{
 "cells": [
  {
   "cell_type": "code",
   "execution_count": 2,
   "metadata": {},
   "outputs": [],
   "source": [
    "import numpy as np\n",
    "\n",
    "from sklearn.model_selection import KFold\n",
    "\n",
    "import matplotlib.pyplot as plt\n",
    "import seaborn as sns\n",
    "\n",
    "import gc\n",
    "\n",
    "from sklearn.exceptions import NotFittedError\n",
    "\n",
    "from itertools import chain"
   ]
  },
  {
   "cell_type": "code",
   "execution_count": null,
   "metadata": {
    "collapsed": true
   },
   "outputs": [],
   "source": [
    "def __init__(self):\n",
    "        \n",
    "        # Dataframes recording information about features to remove\n",
    "        self.missing_col = None\n",
    "        self.single_unique = None\n",
    "        self.collinear = None\n",
    "        self.low_importance = None\n",
    "        \n",
    "        self.feature_importances = None\n",
    "       \n",
    "    "
   ]
  },
  {
   "cell_type": "code",
   "execution_count": 34,
   "metadata": {},
   "outputs": [],
   "source": [
    "a = np.array([[1,2,3], [4,5,6], [np.nan, np.nan, np.nan], [np.nan,8,np.nan]])"
   ]
  },
  {
   "cell_type": "code",
   "execution_count": 35,
   "metadata": {},
   "outputs": [
    {
     "data": {
      "text/plain": [
       "4"
      ]
     },
     "execution_count": 35,
     "metadata": {},
     "output_type": "execute_result"
    }
   ],
   "source": [
    "a.shape[0]"
   ]
  },
  {
   "cell_type": "code",
   "execution_count": 36,
   "metadata": {},
   "outputs": [
    {
     "data": {
      "text/plain": [
       "array([ 0.5 ,  0.25,  0.5 ])"
      ]
     },
     "execution_count": 36,
     "metadata": {},
     "output_type": "execute_result"
    }
   ],
   "source": [
    "missing_entries = (len(a) - np.sum(a==a, axis=0)) / float(len(a))\n",
    "missing_entries"
   ]
  },
  {
   "cell_type": "code",
   "execution_count": 37,
   "metadata": {},
   "outputs": [
    {
     "data": {
      "text/plain": [
       "array([0, 2])"
      ]
     },
     "execution_count": 37,
     "metadata": {},
     "output_type": "execute_result"
    }
   ],
   "source": [
    "ms_th = 0.30\n",
    "b= missing_entries > ms_th\n",
    "missing_col = np.where(b)\n",
    "missing_col[0]"
   ]
  },
  {
   "cell_type": "code",
   "execution_count": null,
   "metadata": {
    "collapsed": true
   },
   "outputs": [],
   "source": [
    " def which_missing(self, data, missing_thresh):\n",
    "        \n",
    "        self.missing_thresh = missing_thresh\n",
    "\n",
    "        # Calculate the fraction of missing in each column \n",
    "        missing_series = (len(a) - np.sum(data==data, axis=0)) / float(len(data))\n",
    "        \n",
    "        # Find the columns with a missing percentage above the threshold\n",
    "        missing_col = np.where(missing_series > missing_thresh)\n",
    "\n",
    "        missing_col = missing_col[0]\n",
    "\n",
    "        self.missing_col = missing_col\n",
    "        \n",
    "        print('%d columns with greater than %0.2f missing values.\\n' % (len(self.missing_col), self.missing_thresh))\n",
    "        \n"
   ]
  }
 ],
 "metadata": {
  "kernelspec": {
   "display_name": "Python 2",
   "language": "python",
   "name": "python2"
  },
  "language_info": {
   "codemirror_mode": {
    "name": "ipython",
    "version": 2
   },
   "file_extension": ".py",
   "mimetype": "text/x-python",
   "name": "python",
   "nbconvert_exporter": "python",
   "pygments_lexer": "ipython2",
   "version": "2.7.14"
  }
 },
 "nbformat": 4,
 "nbformat_minor": 2
}
